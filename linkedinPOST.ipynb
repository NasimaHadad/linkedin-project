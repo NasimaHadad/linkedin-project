{
 "cells": [
  {
   "cell_type": "markdown",
   "id": "0d7b4e71",
   "metadata": {},
   "source": [
    "### ## ⚙️ Importing Packages"
   ]
  },
  {
   "cell_type": "code",
   "execution_count": 21,
   "id": "44ac6606",
   "metadata": {
    "ExecuteTime": {
     "end_time": "2021-10-09T23:26:50.865788Z",
     "start_time": "2021-10-09T23:26:50.845782Z"
    }
   },
   "outputs": [],
   "source": [
    "# Importing Packages\n",
    "from selenium import webdriver\n",
    "import random\n",
    "from selenium.webdriver.common.keys import Keys\n",
    "import selenium.webdriver.common.keys\n",
    "from selenium.webdriver.chrome.options import Options\n",
    "from selenium.webdriver.common.by import By\n",
    "from selenium.webdriver.support.ui import WebDriverWait\n",
    "from selenium.webdriver.support import expected_conditions as EC\n",
    "import time\n",
    "from configparser import ConfigParser\n",
    "from webdriver_manager.chrome import ChromeDriverManager\n",
    "import os"
   ]
  },
  {
   "cell_type": "markdown",
   "id": "ce60ca8c",
   "metadata": {},
   "source": [
    "## ## ⚙️ config Parser"
   ]
  },
  {
   "cell_type": "code",
   "execution_count": 22,
   "id": "e7d971e1",
   "metadata": {
    "ExecuteTime": {
     "end_time": "2021-10-09T23:26:59.341928Z",
     "start_time": "2021-10-09T23:26:59.328922Z"
    }
   },
   "outputs": [],
   "source": [
    "# Get user data from config.ini\n",
    "config_file = \"config.ini\"\n",
    "config = ConfigParser()\n",
    "config.read(config_file)\n",
    "user_data_dir = config[\"user_data\"][\"user_data_dir\"]\n",
    "profile_directory = config[\"user_data\"][\"profile_directory\"]"
   ]
  },
  {
   "cell_type": "markdown",
   "id": "cf9f1048",
   "metadata": {},
   "source": [
    "## ⚙️ Setting Chrome Profile Options & Launch Browser"
   ]
  },
  {
   "cell_type": "code",
   "execution_count": 23,
   "id": "a2a79d45",
   "metadata": {
    "ExecuteTime": {
     "end_time": "2021-10-09T23:27:27.367392Z",
     "start_time": "2021-10-09T23:27:02.574735Z"
    }
   },
   "outputs": [],
   "source": [
    "# Setting Chrome Profile Options\n",
    "options = webdriver.ChromeOptions()\n",
    "options.add_argument(f\"--user-data-dir={user_data_dir}\")\n",
    "options.add_argument(f'--profile-directory={profile_directory}') #e.g. Profile 3driver = webdriver.Chrome(options=options)\n",
    "\n",
    "# Launch browser & navigate\n",
    "driver = webdriver.Chrome(options=options)\n",
    "driver.implicitly_wait(30)\n",
    "driver.get(\"https://www.linkedin.com/\")"
   ]
  },
  {
   "cell_type": "markdown",
   "id": "5c0489e6",
   "metadata": {},
   "source": [
    "### ⚙️ Account Information Email and Pacific : {linkedin}"
   ]
  },
  {
   "cell_type": "code",
   "execution_count": 10,
   "id": "9238c870",
   "metadata": {
    "ExecuteTime": {
     "end_time": "2021-10-09T22:43:41.358962Z",
     "start_time": "2021-10-09T22:43:36.633768Z"
    }
   },
   "outputs": [],
   "source": [
    "\n",
    "### email = driver.find_element_by_xpath('//*[@name=\"session_key\"]')\n",
    "### password =  driver.find_element_by_xpath('//*[@name=\"session_password\"]') \n",
    "\n",
    "###  ⚙️ Register the login process for the site\n",
    "### email.send_keys('nasima.hadadi@gmail.com')\n",
    "### password.send_keys('6xoyiroot@07NA')\n",
    "### time.sleep(3)\n",
    "\n",
    "### submit = driver.find_element_by_xpath('//button[@type=\"submit\"]')\n",
    "### submit.click()\n",
    "### time.sleep(3)####"
   ]
  },
  {
   "cell_type": "code",
   "execution_count": 27,
   "id": "fa9b86e8",
   "metadata": {
    "ExecuteTime": {
     "end_time": "2021-10-10T00:02:27.544258Z",
     "start_time": "2021-10-10T00:02:07.375505Z"
    }
   },
   "outputs": [
    {
     "ename": "NameError",
     "evalue": "name 'scroll' is not defined",
     "output_type": "error",
     "traceback": [
      "\u001b[1;31m---------------------------------------------------------------------------\u001b[0m",
      "\u001b[1;31mNameError\u001b[0m                                 Traceback (most recent call last)",
      "\u001b[1;32m~\\AppData\\Local\\Temp/ipykernel_7044/79234774.py\u001b[0m in \u001b[0;36m<module>\u001b[1;34m\u001b[0m\n\u001b[0;32m     15\u001b[0m     \u001b[0mdriver\u001b[0m\u001b[1;33m.\u001b[0m\u001b[0mexecute_script\u001b[0m\u001b[1;33m(\u001b[0m\u001b[1;34m\"arguments[0].click();\"\u001b[0m\u001b[1;33m,\u001b[0m \u001b[0mclose\u001b[0m\u001b[1;33m)\u001b[0m\u001b[1;33m\u001b[0m\u001b[1;33m\u001b[0m\u001b[0m\n\u001b[0;32m     16\u001b[0m     \u001b[0mtime\u001b[0m\u001b[1;33m.\u001b[0m\u001b[0msleep\u001b[0m\u001b[1;33m(\u001b[0m\u001b[1;36m2\u001b[0m\u001b[1;33m)\u001b[0m\u001b[1;33m\u001b[0m\u001b[1;33m\u001b[0m\u001b[0m\n\u001b[1;32m---> 17\u001b[1;33m     \u001b[0mscroll\u001b[0m\u001b[1;33m\u001b[0m\u001b[1;33m\u001b[0m\u001b[0m\n\u001b[0m",
      "\u001b[1;31mNameError\u001b[0m: name 'scroll' is not defined"
     ]
    }
   ],
   "source": [
    "# GET link contacts :\n",
    "driver.get('https://www.linkedin.com/search/results/people/?network=%5B%22S%22%5D&origin=FACETED_SEARCH&page=2&sid=EOe')\n",
    "time.sleep(3)\n",
    "\n",
    "all_buttons = driver.find_elements_by_tag_name(\"button\")\n",
    "connect_buttons = [btn for btn in all_buttons if btn.text == \"Connect\"]\n",
    "\n",
    " ## ADD CONTACTS\n",
    "for btn in connect_buttons:\n",
    "    driver.execute_script(\"arguments[0].click();\", btn)\n",
    "    time.sleep(3)\n",
    "    send = driver.find_element_by_xpath('//button[@aria-label=\"Send now\"]')\n",
    "    driver.execute_script(\"arguments[0].click();\", send)\n",
    "    close =driver.find_element_by_xpath('//button[@aria-label=\"Dismiss\"]')\n",
    "    driver.execute_script(\"arguments[0].click();\", close)\n",
    "    time.sleep(2)\n",
    "    "
   ]
  },
  {
   "cell_type": "code",
   "execution_count": 35,
   "id": "016be93d",
   "metadata": {
    "ExecuteTime": {
     "end_time": "2021-10-10T01:19:11.753613Z",
     "start_time": "2021-10-10T01:18:27.514459Z"
    }
   },
   "outputs": [],
   "source": [
    "all_buttons = driver.find_elements_by_tag_name(\"button\")\n",
    "connect_buttons = [btn for btn in all_buttons if btn.text == \"Connect\"]\n",
    "\n",
    " ## ADD CONTACTS\n",
    "for btn in connect_buttons:\n",
    "    driver.execute_script(\"arguments[0].click();\", btn)\n",
    "    time.sleep(3)\n",
    "    send = driver.find_element_by_xpath('//button[@aria-label=\"Send now\"]')\n",
    "    driver.execute_script(\"arguments[0].click();\", send)\n",
    "    close =driver.find_element_by_xpath('//button[@aria-label=\"Dismiss\"]')\n",
    "    driver.execute_script(\"arguments[0].click();\", close)\n",
    "    time.sleep(2)"
   ]
  },
  {
   "cell_type": "code",
   "execution_count": 32,
   "id": "5e2c224e",
   "metadata": {
    "ExecuteTime": {
     "end_time": "2021-10-10T01:04:02.000178Z",
     "start_time": "2021-10-10T01:04:01.610673Z"
    }
   },
   "outputs": [
    {
     "name": "stdout",
     "output_type": "stream",
     "text": [
      "10\n",
      " \n",
      "https://www.linkedin.com/in/sameer-musa?miniProfileUrn=urn%3Ali%3Afs_miniProfile%3AACoAAAr4_rkBcwjA9naoZh-yqpHM3KxNTBjTrNo\n",
      "https://www.linkedin.com/in/lahoussine?miniProfileUrn=urn%3Ali%3Afs_miniProfile%3AACoAAAGq2RgBMQcbDki41Xn4fE8Ffw26V35Q8fQ\n",
      "https://www.linkedin.com/in/othmanbenhalima?miniProfileUrn=urn%3Ali%3Afs_miniProfile%3AACoAAAGOoqEBomi4UChrJEJHEefwuhGPDVP7-nA\n",
      "https://www.linkedin.com/in/josetollinchi?miniProfileUrn=urn%3Ali%3Afs_miniProfile%3AACoAAAZfE3wBWjIhyfitaN1a2U30nMhn53_rPXc\n",
      "https://www.linkedin.com/in/misteroneandhalf?miniProfileUrn=urn%3Ali%3Afs_miniProfile%3AACoAAAHzKgIB_ssoXTzrIcRKVWDx0hi1da8OZWw\n",
      "https://www.linkedin.com/in/oum-kelthoum-lahbabi-979671120?miniProfileUrn=urn%3Ali%3Afs_miniProfile%3AACoAAB3_iy0BC9WxJsKQUcmNHIRvA3PIc480MJs\n",
      "https://www.linkedin.com/in/omar-azouz-b0552717?miniProfileUrn=urn%3Ali%3Afs_miniProfile%3AACoAAAN1g3UBQ3E8ygv_NIvlifJ24gqs7i19UFo\n",
      "https://www.linkedin.com/in/hamza-masood-8b8805121?miniProfileUrn=urn%3Ali%3Afs_miniProfile%3AACoAAB4ylswBVFTRsPa2wHV3MRywyV4U9CjMaZM\n",
      "https://www.linkedin.com/in/youssef-gherradi-27bbb09b?miniProfileUrn=urn%3Ali%3Afs_miniProfile%3AACoAABVbMH8Bw7IrzaJQs4CsxMy-H77xiHq4GwQ\n",
      "https://www.linkedin.com/in/kenza-touhs-%E7%8F%8D%E7%8F%8D-26b48370?miniProfileUrn=urn%3Ali%3Afs_miniProfile%3AACoAAA8FDbMBqXzVklQje-Zlgv2oTFZsix5EQDY\n"
     ]
    }
   ],
   "source": [
    "# Scrape profile links\n",
    "links = driver.find_elements_by_xpath('//div[@class=\"mb1\"]/div/div/span/span/a')\n",
    "\n",
    "links_list = []\n",
    "for link in links:\n",
    "    links_list.append(link.get_attribute('href'))\n",
    " \n",
    "# titles_list = list(filter(None, titles_list))\n",
    "\n",
    "print(len(links_list))\n",
    "print(\" \")\n",
    "\n",
    "for link in links_list:\n",
    "    print(link)"
   ]
  },
  {
   "cell_type": "code",
   "execution_count": 11,
   "id": "3d826856",
   "metadata": {
    "ExecuteTime": {
     "end_time": "2021-10-09T22:43:41.374966Z",
     "start_time": "2021-10-09T22:43:41.361960Z"
    }
   },
   "outputs": [],
   "source": [
    "for link in links_list:\n",
    "    driver.get(link)\n",
    "    driver.execute_script(\"window.scrollBy(0,500)\")\n",
    "    \n",
    "    follow = driver.find_elements_by_tag_name(\"button\")\n",
    "    follow.click()\n",
    "    \n",
    "     break   "
   ]
  },
  {
   "cell_type": "code",
   "execution_count": 33,
   "id": "02637ced",
   "metadata": {
    "ExecuteTime": {
     "end_time": "2021-10-10T01:13:06.219650Z",
     "start_time": "2021-10-10T01:13:05.944567Z"
    }
   },
   "outputs": [
    {
     "ename": "AttributeError",
     "evalue": "'list' object has no attribute 'click'",
     "output_type": "error",
     "traceback": [
      "\u001b[1;31m---------------------------------------------------------------------------\u001b[0m",
      "\u001b[1;31mAttributeError\u001b[0m                            Traceback (most recent call last)",
      "\u001b[1;32m~\\AppData\\Local\\Temp/ipykernel_7044/3334097598.py\u001b[0m in \u001b[0;36m<module>\u001b[1;34m\u001b[0m\n\u001b[0;32m      1\u001b[0m \u001b[0mfollow\u001b[0m \u001b[1;33m=\u001b[0m \u001b[0mdriver\u001b[0m\u001b[1;33m.\u001b[0m\u001b[0mfind_elements_by_tag_name\u001b[0m\u001b[1;33m(\u001b[0m\u001b[1;34m\"button\"\u001b[0m\u001b[1;33m)\u001b[0m\u001b[1;33m\u001b[0m\u001b[1;33m\u001b[0m\u001b[0m\n\u001b[1;32m----> 2\u001b[1;33m \u001b[0mfollow\u001b[0m\u001b[1;33m.\u001b[0m\u001b[0mclick\u001b[0m\u001b[1;33m(\u001b[0m\u001b[1;33m)\u001b[0m\u001b[1;33m\u001b[0m\u001b[1;33m\u001b[0m\u001b[0m\n\u001b[0m",
      "\u001b[1;31mAttributeError\u001b[0m: 'list' object has no attribute 'click'"
     ]
    }
   ],
   "source": [
    "follow = driver.find_elements_by_tag_name(\"button\")\n",
    "follow.click()"
   ]
  },
  {
   "cell_type": "code",
   "execution_count": null,
   "id": "cf9f5cc5",
   "metadata": {},
   "outputs": [],
   "source": []
  },
  {
   "cell_type": "code",
   "execution_count": null,
   "id": "75a2669e",
   "metadata": {},
   "outputs": [],
   "source": []
  },
  {
   "cell_type": "code",
   "execution_count": null,
   "id": "c1ebf771",
   "metadata": {},
   "outputs": [],
   "source": []
  }
 ],
 "metadata": {
  "hide_input": false,
  "kernelspec": {
   "display_name": "Python 3 (ipykernel)",
   "language": "python",
   "name": "python3"
  },
  "language_info": {
   "codemirror_mode": {
    "name": "ipython",
    "version": 3
   },
   "file_extension": ".py",
   "mimetype": "text/x-python",
   "name": "python",
   "nbconvert_exporter": "python",
   "pygments_lexer": "ipython3",
   "version": "3.8.11"
  }
 },
 "nbformat": 4,
 "nbformat_minor": 5
}
