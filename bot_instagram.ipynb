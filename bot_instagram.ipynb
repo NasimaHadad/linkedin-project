{
 "cells": [
  {
   "cell_type": "markdown",
   "id": "154a4b3b",
   "metadata": {},
   "source": [
    "### ## ⚙️ Importing Packages"
   ]
  },
  {
   "cell_type": "code",
   "execution_count": 20,
   "id": "f4fe1b35",
   "metadata": {
    "ExecuteTime": {
     "end_time": "2021-10-09T15:24:29.386931Z",
     "start_time": "2021-10-09T15:24:29.365923Z"
    }
   },
   "outputs": [],
   "source": [
    "# Importing Packages\n",
    "from selenium import webdriver\n",
    "import random\n",
    "from selenium.webdriver.common.keys import Keys\n",
    "import selenium.webdriver.common.keys\n",
    "from selenium.webdriver.chrome.options import Options\n",
    "from selenium.webdriver.common.by import By\n",
    "from selenium.webdriver.support.ui import WebDriverWait\n",
    "from selenium.webdriver.support import expected_conditions as EC\n",
    "import time\n",
    "from configparser import ConfigParser\n",
    "from webdriver_manager.chrome import ChromeDriverManager\n",
    "import os"
   ]
  },
  {
   "cell_type": "markdown",
   "id": "ec2325f9",
   "metadata": {},
   "source": [
    "## ## ⚙️ config Parser"
   ]
  },
  {
   "cell_type": "code",
   "execution_count": 21,
   "id": "28709043",
   "metadata": {
    "ExecuteTime": {
     "end_time": "2021-10-09T15:24:29.432937Z",
     "start_time": "2021-10-09T15:24:29.391931Z"
    }
   },
   "outputs": [],
   "source": [
    "# Get user data from config.ini\n",
    "config_file = \"config.ini\"\n",
    "config = ConfigParser()\n",
    "config.read(config_file)\n",
    "user_data_dir = config[\"user_data\"][\"user_data_dir\"]\n",
    "profile_directory = config[\"user_data\"][\"profile_directory\"]"
   ]
  },
  {
   "cell_type": "markdown",
   "id": "d3a845d0",
   "metadata": {},
   "source": [
    "## ⚙️ Setting Chrome Profile Options & Launch Browser"
   ]
  },
  {
   "cell_type": "code",
   "execution_count": 22,
   "id": "f7955af6",
   "metadata": {
    "ExecuteTime": {
     "end_time": "2021-10-09T15:24:39.625504Z",
     "start_time": "2021-10-09T15:24:29.436940Z"
    }
   },
   "outputs": [],
   "source": [
    "# Setting Chrome Profile Options\n",
    "options = webdriver.ChromeOptions()\n",
    "options.add_argument(f\"--user-data-dir={user_data_dir}\")\n",
    "options.add_argument(f'--profile-directory={profile_directory}') #e.g. Profile 3driver = webdriver.Chrome(options=options)\n",
    "\n",
    "# Launch browser & navigate\n",
    "driver = webdriver.Chrome(options=options)\n",
    "driver.implicitly_wait(30)\n",
    "driver.get(\"https://www.instagram.com/\")"
   ]
  },
  {
   "cell_type": "markdown",
   "id": "1ac75bf5",
   "metadata": {},
   "source": [
    "### ⚙️ Account Information Email and Pacific : { instagram}"
   ]
  },
  {
   "cell_type": "code",
   "execution_count": 23,
   "id": "b7217ea1",
   "metadata": {
    "ExecuteTime": {
     "end_time": "2021-10-09T15:26:13.085269Z",
     "start_time": "2021-10-09T15:24:39.632510Z"
    }
   },
   "outputs": [],
   "source": [
    "###  ⚙️ Register the login process for the site\n",
    "\n",
    "def login(username_, password_):\n",
    "    # accepting the cookies\n",
    "    try:\n",
    "        cookies_accept = driver.find_element_by_xpath('//button[text()=\"Accept\"]')\n",
    "        cookies_accept.click()\n",
    "        time.sleep(1)\n",
    "        \n",
    "    except:\n",
    "        pass\n",
    "    \n",
    "    username =  driver.find_element_by_name(\"username\")\n",
    "    password =  driver.find_element_by_name(\"password\")\n",
    "    \n",
    "    username.click()\n",
    "    username.send_keys(username_)\n",
    "    time.sleep(1)\n",
    "    \n",
    "    password.click()\n",
    "    password.send_keys(password_)\n",
    "    time.sleep(1)\n",
    "    \n",
    "    log_in = driver.find_element_by_xpath('//div[text()=\"Log In\"]')\n",
    "    log_in.click()\n",
    "    time.sleep(3)\n",
    "    \n",
    "    # save info\n",
    "    try:\n",
    "        \n",
    "        save_login = driver.find_element_by_xpath('//button[text()=\"Not Now\"]')\n",
    "        save_login.click()\n",
    "        time.sleep(1)\n",
    "        \n",
    "    except:\n",
    "        pass\n",
    "    \n",
    "    \n",
    "    #  notifications   \n",
    "    try:\n",
    "        \n",
    "        notifications = driver.find_element_by_xpath('//button[text()=\"Not Now\"]')\n",
    "        notifications.click()\n",
    "        time.sleep(1)\n",
    "        \n",
    "    except:\n",
    "        pass\n",
    "    \n",
    "    \n",
    "    \n",
    "    \n",
    "login('nasima.hadad82', 'NASSIMA1982')    \n",
    "   "
   ]
  },
  {
   "cell_type": "code",
   "execution_count": 27,
   "id": "5d00e5f4",
   "metadata": {
    "ExecuteTime": {
     "end_time": "2021-10-09T15:39:22.746238Z",
     "start_time": "2021-10-09T15:39:19.123350Z"
    }
   },
   "outputs": [
    {
     "ename": "NameError",
     "evalue": "name 'keys' is not defined",
     "output_type": "error",
     "traceback": [
      "\u001b[1;31m---------------------------------------------------------------------------\u001b[0m",
      "\u001b[1;31mNameError\u001b[0m                                 Traceback (most recent call last)",
      "\u001b[1;32m~\\AppData\\Local\\Temp/ipykernel_9956/1051791520.py\u001b[0m in \u001b[0;36m<module>\u001b[1;34m\u001b[0m\n\u001b[0;32m     58\u001b[0m \u001b[1;33m\u001b[0m\u001b[0m\n\u001b[0;32m     59\u001b[0m \u001b[1;33m\u001b[0m\u001b[0m\n\u001b[1;32m---> 60\u001b[1;33m \u001b[0mfollow_like_comment\u001b[0m\u001b[1;33m(\u001b[0m\u001b[1;36m3\u001b[0m\u001b[1;33m)\u001b[0m\u001b[1;33m\u001b[0m\u001b[1;33m\u001b[0m\u001b[0m\n\u001b[0m\u001b[0;32m     61\u001b[0m \u001b[1;33m\u001b[0m\u001b[0m\n",
      "\u001b[1;32m~\\AppData\\Local\\Temp/ipykernel_9956/1051791520.py\u001b[0m in \u001b[0;36mfollow_like_comment\u001b[1;34m(number)\u001b[0m\n\u001b[0;32m     15\u001b[0m         \u001b[0mcount\u001b[0m \u001b[1;33m=\u001b[0m \u001b[1;36m0\u001b[0m\u001b[1;33m\u001b[0m\u001b[1;33m\u001b[0m\u001b[0m\n\u001b[0;32m     16\u001b[0m         \u001b[1;32mwhile\u001b[0m \u001b[0mcount\u001b[0m \u001b[1;33m<\u001b[0m\u001b[1;36m3\u001b[0m\u001b[1;33m:\u001b[0m\u001b[1;33m\u001b[0m\u001b[1;33m\u001b[0m\u001b[0m\n\u001b[1;32m---> 17\u001b[1;33m             \u001b[0msearch_2\u001b[0m\u001b[1;33m.\u001b[0m\u001b[0msend_keys\u001b[0m\u001b[1;33m(\u001b[0m\u001b[0mkeys\u001b[0m\u001b[1;33m.\u001b[0m\u001b[0mENTER\u001b[0m\u001b[1;33m)\u001b[0m\u001b[1;33m\u001b[0m\u001b[1;33m\u001b[0m\u001b[0m\n\u001b[0m\u001b[0;32m     18\u001b[0m             \u001b[0mcount\u001b[0m \u001b[1;33m+=\u001b[0m\u001b[1;36m1\u001b[0m  \u001b[1;31m# count = count +1\u001b[0m\u001b[1;33m\u001b[0m\u001b[1;33m\u001b[0m\u001b[0m\n\u001b[0;32m     19\u001b[0m             \u001b[0mtime\u001b[0m\u001b[1;33m.\u001b[0m\u001b[0msleep\u001b[0m\u001b[1;33m(\u001b[0m\u001b[1;36m1\u001b[0m\u001b[1;33m)\u001b[0m\u001b[1;33m\u001b[0m\u001b[1;33m\u001b[0m\u001b[0m\n",
      "\u001b[1;31mNameError\u001b[0m: name 'keys' is not defined"
     ]
    }
   ],
   "source": [
    "def follow_like_comment(number):\n",
    "    profiles_list = ['duck._lover','rabbit._lover']\n",
    "    comments = ['so cute!', 'cutie', 'very sweet!', 'nice!', 'love it', 'looks very special']\n",
    "    \n",
    "    for i in range(len(profiles_list)):  # 2 pages\n",
    "        \n",
    "        search_1 = driver.find_element_by_xpath('//span[text()=\"Search\"]')\n",
    "        search_1.click()\n",
    "        time.sleep(1)\n",
    "\n",
    "        search_2 = driver.find_element_by_xpath('//input[@placeholder=\"Search\"]')\n",
    "        search_2.send_keys(profiles_list[i])\n",
    "        time.sleep(1)\n",
    "\n",
    "       #################################################################\n",
    "        count = 0\n",
    "        while count <3:\n",
    "            \n",
    "            search_2.send_keys(keys.ENTER)\n",
    "            count +=1  # count = count +1\n",
    "            time.sleep(1)\n",
    "        \n",
    "      ################################################################   \n",
    "        #follow\n",
    "        follow = driver.find_element_by_xpath('//button[text()=\"Follow\"]')\n",
    "        follow.click()\n",
    "        time.sleep(1) \n",
    "\n",
    "        # first media element\n",
    "        media_element =  driver.find_element_by_xpath('//div[@class=\"eLAPa\"]')\n",
    "        media_element.click()\n",
    "        time.sleep(2)\n",
    "\n",
    "        for k in range (number):\n",
    "            # like\n",
    "            like = driver.find_element_by_xpath('//button[@class=\"wpO6b  \"]//*[@aria-label=\"Like\"]')\n",
    "            like.click()\n",
    "            time.sleep(2)\n",
    "            # comment\n",
    "            comment_1 = driver.find_element_by_xpath('//div[@class=\"RxpZH\"]')\n",
    "            comment_1.click()\n",
    "            time.sleep(1)\n",
    "\n",
    "            comment_2 = driver.find_element_by_name('Ypffh')\n",
    "            comment_2.send_keys('random.choice(comments)')\n",
    "            time.sleep(1)\n",
    "            # post\n",
    "            post = driver.find_element_by_xpath('//button[text()=\"Post\"]')\n",
    "            post.click()\n",
    "            time.sleep(1)\n",
    "            # click on next media element\n",
    "            next_button = driver.find_element_by_xpath('//a[text()=\"Next\"]')\n",
    "            next_button.click()\n",
    "            time.sleep(1)\n",
    "            \n",
    "        #close\n",
    "        close = driver.find_element_by_xpath('//*[@aria-label=\"Close\"]')\n",
    "        close.click()\n",
    "            \n",
    "\n",
    "        \n",
    "follow_like_comment(3)    \n",
    "    "
   ]
  },
  {
   "cell_type": "code",
   "execution_count": null,
   "id": "e7aeafd3",
   "metadata": {},
   "outputs": [],
   "source": []
  },
  {
   "cell_type": "code",
   "execution_count": null,
   "id": "81f80f88",
   "metadata": {},
   "outputs": [],
   "source": []
  }
 ],
 "metadata": {
  "hide_input": false,
  "kernelspec": {
   "display_name": "Python 3 (ipykernel)",
   "language": "python",
   "name": "python3"
  },
  "language_info": {
   "codemirror_mode": {
    "name": "ipython",
    "version": 3
   },
   "file_extension": ".py",
   "mimetype": "text/x-python",
   "name": "python",
   "nbconvert_exporter": "python",
   "pygments_lexer": "ipython3",
   "version": "3.8.11"
  }
 },
 "nbformat": 4,
 "nbformat_minor": 5
}
